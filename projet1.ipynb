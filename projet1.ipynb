{
  "nbformat": 4,
  "nbformat_minor": 0,
  "metadata": {
    "colab": {
      "name": "Untitled1.ipynb",
      "provenance": [],
      "collapsed_sections": []
    },
    "kernelspec": {
      "name": "python3",
      "display_name": "Python 3"
    },
    "language_info": {
      "name": "python"
    }
  },
  "cells": [
    {
      "cell_type": "code",
      "metadata": {
        "colab": {
          "base_uri": "https://localhost:8080/"
        },
        "id": "T2unnY-2OUg1",
        "outputId": "e07557bd-eeb1-422f-cf02-50660d1f9835"
      },
      "source": [
        "\n",
        "n=int(input(\"entrez un nombre\"))\n",
        "s=n\n",
        "for i in range (n):\n",
        " n=n*11\n",
        " s=s+n\n",
        "print(s)\n",
        "\n",
        "\n"
      ],
      "execution_count": 60,
      "outputs": [
        {
          "output_type": "stream",
          "text": [
            "entrez un nombre3\n",
            "4392\n"
          ],
          "name": "stdout"
        }
      ]
    },
    {
      "cell_type": "code",
      "metadata": {
        "colab": {
          "base_uri": "https://localhost:8080/"
        },
        "id": "3owABQoKepP5",
        "outputId": "54b8155a-16df-4b10-c94b-4f0ae72a14f1"
      },
      "source": [
        "prenom=str(input(\"entrez votre prenom\"))\n",
        "nom=str(input(\"entrez votre nom\"))\n",
        "print(nom,prenom)"
      ],
      "execution_count": 71,
      "outputs": [
        {
          "output_type": "stream",
          "text": [
            "entrez votre prenommanel\n",
            "entrez votre nomlabidi\n",
            "labidi manel\n"
          ],
          "name": "stdout"
        }
      ]
    },
    {
      "cell_type": "code",
      "metadata": {
        "colab": {
          "base_uri": "https://localhost:8080/"
        },
        "id": "9mSRaY8ngSme",
        "outputId": "934c637c-735e-42e8-e98c-414f0d144c4c"
      },
      "source": [
        "n=int(input(\"entrez un nombre\"))\n",
        "if n%2==1:\n",
        "  print(\"ce nombre est impair\")\n",
        "else:\n",
        "     print(\"ce nombre est pair\")"
      ],
      "execution_count": 77,
      "outputs": [
        {
          "output_type": "stream",
          "text": [
            "entrez un nombre6\n",
            "ce nombre est pair\n"
          ],
          "name": "stdout"
        }
      ]
    },
    {
      "cell_type": "code",
      "metadata": {
        "colab": {
          "base_uri": "https://localhost:8080/"
        },
        "id": "vB2EMQakh_IC",
        "outputId": "6877498f-0615-4475-da1e-3f6115034336"
      },
      "source": [
        "\n",
        "for i in range (2000,3200):\n",
        " if (i%7==0) and not(i%5==0):\n",
        "   print(i, end =\" \")\n",
        "   \n",
        "\n",
        "   \n",
        "  \n"
      ],
      "execution_count": 103,
      "outputs": [
        {
          "output_type": "stream",
          "text": [
            "2002 2009 2016 2023 2037 2044 2051 2058 2072 2079 2086 2093 2107 2114 2121 2128 2142 2149 2156 2163 2177 2184 2191 2198 2212 2219 2226 2233 2247 2254 2261 2268 2282 2289 2296 2303 2317 2324 2331 2338 2352 2359 2366 2373 2387 2394 2401 2408 2422 2429 2436 2443 2457 2464 2471 2478 2492 2499 2506 2513 2527 2534 2541 2548 2562 2569 2576 2583 2597 2604 2611 2618 2632 2639 2646 2653 2667 2674 2681 2688 2702 2709 2716 2723 2737 2744 2751 2758 2772 2779 2786 2793 2807 2814 2821 2828 2842 2849 2856 2863 2877 2884 2891 2898 2912 2919 2926 2933 2947 2954 2961 2968 2982 2989 2996 3003 3017 3024 3031 3038 3052 3059 3066 3073 3087 3094 3101 3108 3122 3129 3136 3143 3157 3164 3171 3178 3192 3199 "
          ],
          "name": "stdout"
        }
      ]
    },
    {
      "cell_type": "code",
      "metadata": {
        "colab": {
          "base_uri": "https://localhost:8080/"
        },
        "id": "zxgx9WpQsCnY",
        "outputId": "179c5bb5-ec31-4f4e-80a8-abc16be82eca"
      },
      "source": [
        "nbr = int(input('Entrez un nombre : '))\n",
        "fact = 1\n",
        "for i in range(1, nbr+1):\n",
        "  fact = fact * i\n",
        "print (nbr,\"=!\",fact)"
      ],
      "execution_count": 109,
      "outputs": [
        {
          "output_type": "stream",
          "text": [
            "Entrez un nombre : 4\n",
            "4 =! 24\n"
          ],
          "name": "stdout"
        }
      ]
    },
    {
      "cell_type": "code",
      "metadata": {
        "id": "s0HAZzlQk4HI"
      },
      "source": [
        "ch=str(input(\"entrez une chaine\"))\n",
        "for i in range(0,len(ch)):\n",
        "    if i%2==0 :\n",
        "       print(ch[i],end= \"\")\n",
        "\n",
        "      "
      ],
      "execution_count": null,
      "outputs": []
    },
    {
      "cell_type": "code",
      "metadata": {
        "id": "D0fg1Lff7onW"
      },
      "source": [
        "prix=float(input(\"Entrez le prix : \"))\n",
        "if prix>=500:\n",
        "  prix=prix/2\n",
        "elif  prix>=200 and prix<500:\n",
        "  prix=prix-((prix*30)/100)\n",
        "else:\n",
        "  prix=prix-((prix*10)/100)\n",
        "print(prix)\n",
        "\n"
      ],
      "execution_count": null,
      "outputs": []
    }
  ]
}